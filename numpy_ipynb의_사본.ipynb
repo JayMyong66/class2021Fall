{
  "nbformat": 4,
  "nbformat_minor": 0,
  "metadata": {
    "kernelspec": {
      "display_name": "Python 3",
      "language": "python",
      "name": "python3"
    },
    "language_info": {
      "codemirror_mode": {
        "name": "ipython",
        "version": 3
      },
      "file_extension": ".py",
      "mimetype": "text/x-python",
      "name": "python",
      "nbconvert_exporter": "python",
      "pygments_lexer": "ipython3",
      "version": "3.7.1"
    },
    "colab": {
      "name": "numpy.ipynb의 사본",
      "provenance": [],
      "collapsed_sections": [],
      "include_colab_link": true
    }
  },
  "cells": [
    {
      "cell_type": "markdown",
      "metadata": {
        "id": "view-in-github",
        "colab_type": "text"
      },
      "source": [
        "<a href=\"https://colab.research.google.com/github/JayMyong66/class2021Fall/blob/main/numpy_ipynb%EC%9D%98_%EC%82%AC%EB%B3%B8.ipynb\" target=\"_parent\"><img src=\"https://colab.research.google.com/assets/colab-badge.svg\" alt=\"Open In Colab\"/></a>"
      ]
    },
    {
      "cell_type": "markdown",
      "metadata": {
        "id": "JcCdLoe_4bY7"
      },
      "source": [
        "### create nd arrays (≈matrices)"
      ]
    },
    {
      "cell_type": "markdown",
      "metadata": {
        "id": "WvMIG71nWbsC"
      },
      "source": [
        "n 차원 배열\n"
      ]
    },
    {
      "cell_type": "code",
      "metadata": {
        "id": "5ap7xyofShBB"
      },
      "source": [
        "import numpy as np"
      ],
      "execution_count": null,
      "outputs": []
    },
    {
      "cell_type": "markdown",
      "metadata": {
        "id": "zRznPtk9WrEP"
      },
      "source": [
        "[[1,2,3,],[4,5,7]] -> 2차원.  \n",
        "np.array 와 np.arange , np.linspace"
      ]
    },
    {
      "cell_type": "code",
      "metadata": {
        "id": "2rqpSPZCShBC",
        "colab": {
          "base_uri": "https://localhost:8080/"
        },
        "outputId": "f54dba9e-e49f-435d-8c48-71325535f63e"
      },
      "source": [
        "x = np.array([1,2,3]) #1차원\n",
        "print(x)\n",
        "print(type(x)) #타입은 nd.array\n",
        "print(x.shape)\n",
        "\n",
        "# x = np.array([[1,2,3,],[4,5,7]])\n",
        "# 이 2차원 배열의 x.shape은 (2,3) 이 된다.   2d array.\n",
        "\n",
        "# x = np.array([[[1,2,3,],[4,5,7]],[[1,2,3,],[4,5,7]]])\n",
        "# 이 3차원 배열의 x.shape은 (2,2,3) 이 된다.   3d array."
      ],
      "execution_count": null,
      "outputs": [
        {
          "output_type": "stream",
          "name": "stdout",
          "text": [
            "[1 2 3]\n",
            "<class 'numpy.ndarray'>\n",
            "(3,)\n"
          ]
        }
      ]
    },
    {
      "cell_type": "code",
      "metadata": {
        "id": "EjC88C75ShBC",
        "colab": {
          "base_uri": "https://localhost:8080/"
        },
        "outputId": "2c72f55f-c3f9-4e6a-c26b-f3e209a295e3"
      },
      "source": [
        "x = np.arange(0,10,2) #0포함 10은 포함안함.\n",
        "print(x)\n",
        "print(type(x)) #타입이 ndarray임.\n",
        "print(x.shape)"
      ],
      "execution_count": null,
      "outputs": [
        {
          "output_type": "stream",
          "name": "stdout",
          "text": [
            "[0 2 4 6 8]\n",
            "<class 'numpy.ndarray'>\n",
            "(5,)\n"
          ]
        }
      ]
    },
    {
      "cell_type": "code",
      "metadata": {
        "id": "-MwkCEjTShBC",
        "colab": {
          "base_uri": "https://localhost:8080/"
        },
        "outputId": "11427674-886c-4f82-ca48-a1465f53223e"
      },
      "source": [
        "x = np.linspace(0,10,6) # 이건 10을 포함함. 0에서 10까지 총 6개의 숫자를 만들어라.  만약 0에서 10까지 7개 숫자 만들면 소숫점 형태로 나옴. 등간격으로 linear하게 \n",
        "\n",
        "print(x)\n",
        "print(type(x))\n",
        "print(x.shape)"
      ],
      "execution_count": null,
      "outputs": [
        {
          "output_type": "stream",
          "name": "stdout",
          "text": [
            "[ 0.  2.  4.  6.  8. 10.]\n",
            "<class 'numpy.ndarray'>\n",
            "(6,)\n"
          ]
        }
      ]
    },
    {
      "cell_type": "markdown",
      "metadata": {
        "id": "NGpIxZHeYI72"
      },
      "source": [
        ""
      ]
    },
    {
      "cell_type": "code",
      "metadata": {
        "id": "tjk79SQ27fNv",
        "colab": {
          "base_uri": "https://localhost:8080/"
        },
        "outputId": "3ff3368b-6bb1-4664-933e-8504613780b1"
      },
      "source": [
        "x = np.array([[1,2,3], [4,5,6]])   # 2차원 배열\n",
        "print(x)\n",
        "print(type(x))\n",
        "print(x.shape)"
      ],
      "execution_count": null,
      "outputs": [
        {
          "output_type": "stream",
          "name": "stdout",
          "text": [
            "[[1 2 3]\n",
            " [4 5 6]]\n",
            "<class 'numpy.ndarray'>\n",
            "(2, 3)\n"
          ]
        }
      ]
    },
    {
      "cell_type": "code",
      "metadata": {
        "id": "C1ogg6iZ7yir",
        "colab": {
          "base_uri": "https://localhost:8080/"
        },
        "outputId": "baf27f4e-10a7-40bb-82f4-bf470d8de90c"
      },
      "source": [
        "x = np.array([[[1,2,3], [4,5,6]], [[7,8,9], [10,11,12]]])  # 3차원 배열\n",
        "print(x)\n",
        "print(type(x))\n",
        "print(x.shape)"
      ],
      "execution_count": null,
      "outputs": [
        {
          "output_type": "stream",
          "name": "stdout",
          "text": [
            "[[[ 1  2  3]\n",
            "  [ 4  5  6]]\n",
            "\n",
            " [[ 7  8  9]\n",
            "  [10 11 12]]]\n",
            "<class 'numpy.ndarray'>\n",
            "(2, 2, 3)\n"
          ]
        }
      ]
    },
    {
      "cell_type": "code",
      "metadata": {
        "id": "efgeNHtD8ZlT",
        "colab": {
          "base_uri": "https://localhost:8080/"
        },
        "outputId": "047fb9dd-8c90-4dbf-9f12-35123bed1052"
      },
      "source": [
        "x = np.ones([2, 2, 3]) # 2,2,3 의 3차원 배열을 만드는데, 1로 채워라. 차원을 입력받음.\n",
        "print(x)\n",
        "print(type(x))\n",
        "print(x.shape)"
      ],
      "execution_count": null,
      "outputs": [
        {
          "output_type": "stream",
          "name": "stdout",
          "text": [
            "[[[1. 1. 1.]\n",
            "  [1. 1. 1.]]\n",
            "\n",
            " [[1. 1. 1.]\n",
            "  [1. 1. 1.]]]\n",
            "<class 'numpy.ndarray'>\n",
            "(2, 2, 3)\n"
          ]
        }
      ]
    },
    {
      "cell_type": "code",
      "metadata": {
        "id": "b_F-ccY08zzl",
        "colab": {
          "base_uri": "https://localhost:8080/"
        },
        "outputId": "d56dd759-bbd1-48d5-d208-4a2084fe1cec"
      },
      "source": [
        "x = np.zeros([2, 2, 3]) # 해당 배열을 0으로 채워라\n",
        "print(x)\n",
        "print(type(x))\n",
        "print(x.shape)\n",
        "x.reshape(3,2,2)"
      ],
      "execution_count": null,
      "outputs": [
        {
          "output_type": "stream",
          "name": "stdout",
          "text": [
            "[[[0. 0. 0.]\n",
            "  [0. 0. 0.]]\n",
            "\n",
            " [[0. 0. 0.]\n",
            "  [0. 0. 0.]]]\n",
            "<class 'numpy.ndarray'>\n",
            "(2, 2, 3)\n"
          ]
        },
        {
          "output_type": "execute_result",
          "data": {
            "text/plain": [
              "array([[[0., 0.],\n",
              "        [0., 0.]],\n",
              "\n",
              "       [[0., 0.],\n",
              "        [0., 0.]],\n",
              "\n",
              "       [[0., 0.],\n",
              "        [0., 0.]]])"
            ]
          },
          "metadata": {},
          "execution_count": 27
        }
      ]
    },
    {
      "cell_type": "markdown",
      "metadata": {
        "id": "0hQuDJ5g9gpE"
      },
      "source": [
        "### create random numbers"
      ]
    },
    {
      "cell_type": "code",
      "metadata": {
        "id": "QRatmkx79otL"
      },
      "source": [
        "import matplotlib.pyplot as plt # matlab의 plot을 구현"
      ],
      "execution_count": null,
      "outputs": []
    },
    {
      "cell_type": "code",
      "metadata": {
        "id": "z1oOAB6dShBD",
        "colab": {
          "base_uri": "https://localhost:8080/",
          "height": 775
        },
        "outputId": "d4d82def-5545-45b8-de1e-c4dd11c720b5"
      },
      "source": [
        "x = np.random.normal(0, 1, 100) #normal(loc, scale, size) 평균이 0, standard divi에이션, 100개 / normal이 정규분포?\n",
        "print(x)\n",
        "plt.hist(x, bins=10) #bins는 막대의 수. x의 개수에 비슷해질 수록 각 막대에 들어가는 수가 적어지고 없을 수도 있음. bins 사이즈 조절해야함. 사이즈가 커질수록 bins도 커져야겠지.\n",
        "# e-01 이런것은 10의 -1 승 이라는 뜻.  e+00은 0승이니까 1 ->  앞의숫자 * e-01\n",
        "#9.465463e-01은 0.9~~ 임. 이렇게 사용하면, 모든 숫자의 길이가 같음. 0.몇몇 해서 길어지지 않음."
      ],
      "execution_count": null,
      "outputs": [
        {
          "output_type": "stream",
          "name": "stdout",
          "text": [
            "[ 6.75815376e-01  1.02893296e+00 -4.58513826e-02  8.79017644e-01\n",
            " -4.15837636e-01  2.63268604e-02  1.17606243e-02  6.12847175e-02\n",
            " -1.58601011e+00 -2.15219427e+00  4.23695513e-02  2.10357387e-03\n",
            " -4.63569696e-01 -6.59768246e-01  1.24547855e+00  2.01482685e+00\n",
            "  9.85732343e-01  1.99712729e-01  4.31234922e-01 -2.39732608e+00\n",
            "  2.67594080e-01 -5.52062947e-01  5.11980497e-02  6.44486317e-01\n",
            "  1.51384393e+00 -1.49704985e+00  3.05802658e-01 -8.63351053e-01\n",
            " -1.56413935e+00  7.63449030e-01 -4.02685290e-01  2.05918825e+00\n",
            " -2.57650545e+00 -1.72722653e+00 -5.98512546e-01 -1.04426839e+00\n",
            "  5.79495928e-01  6.97056313e-01  1.10038944e+00 -1.01514355e+00\n",
            "  7.25896409e-01  2.00650052e+00  2.47173672e-01 -9.83709202e-01\n",
            " -1.04936877e+00 -5.15808541e-01 -7.36514527e-01  1.78991769e-02\n",
            "  2.45799823e-01 -8.46845156e-01  4.27437939e-02 -7.52760974e-01\n",
            "  5.66173921e-01  4.76657872e-01 -7.99638141e-01  6.86419481e-01\n",
            " -2.42817433e-01 -1.14333230e+00 -1.93397516e-01 -1.88075973e+00\n",
            "  8.74694966e-02  2.09061831e+00 -1.19951542e+00 -2.54857451e-01\n",
            "  4.47103839e-01  5.77505210e-01  8.39471488e-02  3.40415398e+00\n",
            " -5.28541166e-02  3.15850731e-01  8.86687707e-01  9.76208060e-01\n",
            "  9.78071234e-01  1.30724388e+00 -4.56660567e-02 -7.65197360e-01\n",
            " -1.00054084e-01  9.36207873e-01 -4.83458290e-01 -1.95335048e+00\n",
            "  6.15537473e-01  3.61022361e-01 -1.23811113e+00 -1.34240334e+00\n",
            "  7.18919827e-01 -1.21898173e-01 -7.66636750e-01  5.99335892e-01\n",
            "  1.22967813e+00 -3.57868805e-01 -6.61489596e-02  1.00429346e+00\n",
            "  6.15523292e-01  3.80779169e-01  1.70432486e+00 -1.40938993e+00\n",
            "  9.38575231e-01  1.50799373e+00  1.59743207e-01  6.40158060e-01]\n"
          ]
        },
        {
          "output_type": "execute_result",
          "data": {
            "text/plain": [
              "(array([ 3.,  7., 11., 16., 25., 25.,  7.,  5.,  0.,  1.]),\n",
              " array([-2.57650545, -1.97843951, -1.38037357, -0.78230762, -0.18424168,\n",
              "         0.41382426,  1.0118902 ,  1.60995615,  2.20802209,  2.80608803,\n",
              "         3.40415398]),\n",
              " <a list of 10 Patch objects>)"
            ]
          },
          "metadata": {},
          "execution_count": 14
        },
        {
          "output_type": "display_data",
          "data": {
            "image/png": "[encoded data removed]",
            "text/plain": [
              "<Figure size 432x288 with 1 Axes>"
            ]
          },
          "metadata": {
            "needs_background": "light"
          }
        }
      ]
    },
    {
      "cell_type": "markdown",
      "metadata": {
        "id": "G0exvwBbShBE"
      },
      "source": [
        "### generate a sine curve"
      ]
    },
    {
      "cell_type": "code",
      "metadata": {
        "id": "iWmW1a21ZxA2"
      },
      "source": [
        "#시험에서 theta의 길이를 물어볼 수 있음. theta.shape 해보면 됨. (100,) 이렇게 나옴."
      ],
      "execution_count": null,
      "outputs": []
    },
    {
      "cell_type": "code",
      "metadata": {
        "id": "HgQmRXzMShBE",
        "colab": {
          "base_uri": "https://localhost:8080/",
          "height": 312
        },
        "outputId": "23ff67f0-37a2-4d7c-f83f-bc4eff173593"
      },
      "source": [
        "theta = np.linspace(0, 2*np.pi, 100) # 0 부터 2 * 파이(np안에pi가 저장디어있음)까지 총 100개의 숫자를 만들어라.\n",
        "s = np.sin(theta) #np의 sign함수 안에 theta를 넣음.  sin 함수는 radian이라는 각도값을 인자로 받음. degree도 아님. theta라는 100개의 각도값을 만든 것이다. \n",
        "plt.plot(theta, s, '.')  #theta 자리가 x 자리(각도값), s 자리가 y자리(싸인의 결과값).  plt.plot(x값, y값,(옵션='.' , 'o' : 그래프가 점선 or o로 구성됨)) 'r.'으로 하면 빨간 점으로 나옴.\n",
        "plt.xlabel('angle (radian)') # x축 이름을 넣어줌.\n",
        "plt.ylabel('value') #y축 이름을 넣어줌\n",
        "plt.title('my first sine curve') #표의 제목을 넣어줌.\n",
        "\n",
        "#아래 점들의 갯수는 당연히 100개임."
      ],
      "execution_count": null,
      "outputs": [
        {
          "output_type": "execute_result",
          "data": {
            "text/plain": [
              "Text(0.5, 1.0, 'my first sine curve')"
            ]
          },
          "metadata": {},
          "execution_count": 6
        },
        {
          "output_type": "display_data",
          "data": {
            "image/png": "[encoded data removed]",
            "text/plain": [
              "<Figure size 432x288 with 1 Axes>"
            ]
          },
          "metadata": {
            "needs_background": "light"
          }
        }
      ]
    },
    {
      "cell_type": "markdown",
      "metadata": {
        "id": "6FSDNoaLb-eu"
      },
      "source": [
        "두 sine 곡선은 90도 차이가 난다. phase difference. (위상차)"
      ]
    },
    {
      "cell_type": "code",
      "metadata": {
        "id": "WTqXoomZBbBk",
        "colab": {
          "base_uri": "https://localhost:8080/",
          "height": 282
        },
        "outputId": "9d5390bf-5064-43a1-8aa7-6a309aebb473"
      },
      "source": [
        "theta2 = np.linspace(0, 2*np.pi, 100) + np.pi/2    #0도 부터가 아닌 90도부터 표에 출력하기위해 90도만큼 시프트 시킨 것임.(이동) np.pi/2 가 90도를 표현.\n",
        "s2 = np.sin(theta2)   # 90도부터 450도까지를 sin함수에 넣은 것임. 100개. plot에도 나온게 100개의 점. \n",
        "plt.plot(theta2, s2, 'b:')"
      ],
      "execution_count": null,
      "outputs": [
        {
          "output_type": "execute_result",
          "data": {
            "text/plain": [
              "[<matplotlib.lines.Line2D at 0x7ff29f54ec90>]"
            ]
          },
          "metadata": {},
          "execution_count": 10
        },
        {
          "output_type": "display_data",
          "data": {
            "image/png": "[encoded data removed]",
            "text/plain": [
              "<Figure size 432x288 with 1 Axes>"
            ]
          },
          "metadata": {
            "needs_background": "light"
          }
        }
      ]
    },
    {
      "cell_type": "code",
      "metadata": {
        "id": "TuH489v9BvQ7",
        "colab": {
          "base_uri": "https://localhost:8080/"
        },
        "outputId": "534920ef-558e-4eb8-e8d2-2bc1fe2cf00c"
      },
      "source": [
        "np.corrcoef(s,s2) #cos(Theta) 값을 측정하는 것임. 코싸인 유사도, (14일 강의 마지막 10분 잘 안보였음)"
      ],
      "execution_count": null,
      "outputs": [
        {
          "output_type": "execute_result",
          "data": {
            "text/plain": [
              "array([[1.00000000e+00, 2.41915449e-17],\n",
              "       [2.41915449e-17, 1.00000000e+00]])"
            ]
          },
          "metadata": {},
          "execution_count": 12
        }
      ]
    }
  ]
}