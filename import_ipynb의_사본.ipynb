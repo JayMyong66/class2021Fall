{
  "nbformat": 4,
  "nbformat_minor": 0,
  "metadata": {
    "colab": {
      "name": "import.ipynb의 사본",
      "provenance": [],
      "include_colab_link": true
    },
    "kernelspec": {
      "name": "python3",
      "display_name": "Python 3"
    },
    "language_info": {
      "name": "python"
    }
  },
  "cells": [
    {
      "cell_type": "markdown",
      "metadata": {
        "id": "view-in-github",
        "colab_type": "text"
      },
      "source": [
        "<a href=\"https://colab.research.google.com/github/JayMyong66/class2021Fall/blob/main/import_ipynb%EC%9D%98_%EC%82%AC%EB%B3%B8.ipynb\" target=\"_parent\"><img src=\"https://colab.research.google.com/assets/colab-badge.svg\" alt=\"Open In Colab\"/></a>"
      ]
    },
    {
      "cell_type": "code",
      "metadata": {
        "id": "JXicrkYOzPRo"
      },
      "source": [
        "import numpy as np\n",
        "n = np.random.randn(100)"
      ],
      "execution_count": 1,
      "outputs": []
    },
    {
      "cell_type": "markdown",
      "metadata": {
        "id": "UIOId1uiU_6G"
      },
      "source": [
        "n을 카운트해서 히스토그램으로 보여줌. 정규분포처럼 나옴. 1000, 10000으로 늘릴수록.\n"
      ]
    },
    {
      "cell_type": "code",
      "metadata": {
        "id": "oKT4vn4MwyLA",
        "colab": {
          "base_uri": "https://localhost:8080/",
          "height": 350
        },
        "outputId": "e3c5c0c6-fe14-4c8a-b76e-f21d7c8a5ec7"
      },
      "source": [
        "import matplotlib\n",
        "matplotlib.pyplot.hist(n)"
      ],
      "execution_count": 2,
      "outputs": [
        {
          "output_type": "execute_result",
          "data": {
            "text/plain": [
              "(array([ 4.,  4.,  9., 11., 16., 14., 17., 13.,  7.,  5.]),\n",
              " array([-2.66294153, -2.16151998, -1.66009842, -1.15867687, -0.65725532,\n",
              "        -0.15583377,  0.34558778,  0.84700933,  1.34843088,  1.84985244,\n",
              "         2.35127399]),\n",
              " <a list of 10 Patch objects>)"
            ]
          },
          "metadata": {},
          "execution_count": 2
        },
        {
          "output_type": "display_data",
          "data": {
            "image/png": "[encoded data removed]",
            "text/plain": [
              "<Figure size 432x288 with 1 Axes>"
            ]
          },
          "metadata": {
            "needs_background": "light"
          }
        }
      ]
    },
    {
      "cell_type": "markdown",
      "metadata": {
        "id": "KZqxzLfuVdXP"
      },
      "source": [
        "bins 옵션 사용 가능."
      ]
    },
    {
      "cell_type": "code",
      "metadata": {
        "colab": {
          "base_uri": "https://localhost:8080/",
          "height": 741
        },
        "id": "Pp5vtJOtVW1v",
        "outputId": "321bd6a1-a846-4c22-af57-2b85595b66f9"
      },
      "source": [
        "import matplotlib\n",
        "matplotlib.pyplot.hist(n,bins=100)"
      ],
      "execution_count": 3,
      "outputs": [
        {
          "output_type": "execute_result",
          "data": {
            "text/plain": [
              "(array([1., 0., 0., 1., 0., 0., 0., 1., 1., 0., 0., 1., 0., 0., 0., 1., 1.,\n",
              "        0., 0., 1., 0., 2., 0., 0., 0., 1., 0., 3., 1., 2., 0., 0., 0., 2.,\n",
              "        2., 0., 5., 1., 0., 1., 0., 1., 2., 1., 3., 0., 2., 3., 3., 1., 5.,\n",
              "        1., 1., 1., 2., 1., 1., 1., 1., 0., 1., 2., 5., 1., 1., 1., 2., 2.,\n",
              "        1., 1., 2., 0., 1., 2., 4., 0., 0., 1., 1., 2., 1., 0., 0., 0., 0.,\n",
              "        0., 4., 1., 1., 0., 1., 1., 0., 0., 0., 1., 0., 1., 0., 1.]),\n",
              " array([-2.66294153, -2.61279937, -2.56265722, -2.51251506, -2.46237291,\n",
              "        -2.41223075, -2.3620886 , -2.31194644, -2.26180429, -2.21166213,\n",
              "        -2.16151998, -2.11137782, -2.06123567, -2.01109351, -1.96095136,\n",
              "        -1.9108092 , -1.86066704, -1.81052489, -1.76038273, -1.71024058,\n",
              "        -1.66009842, -1.60995627, -1.55981411, -1.50967196, -1.4595298 ,\n",
              "        -1.40938765, -1.35924549, -1.30910334, -1.25896118, -1.20881903,\n",
              "        -1.15867687, -1.10853472, -1.05839256, -1.00825041, -0.95810825,\n",
              "        -0.9079661 , -0.85782394, -0.80768179, -0.75753963, -0.70739748,\n",
              "        -0.65725532, -0.60711317, -0.55697101, -0.50682886, -0.4566867 ,\n",
              "        -0.40654455, -0.35640239, -0.30626024, -0.25611808, -0.20597593,\n",
              "        -0.15583377, -0.10569161, -0.05554946, -0.0054073 ,  0.04473485,\n",
              "         0.09487701,  0.14501916,  0.19516132,  0.24530347,  0.29544563,\n",
              "         0.34558778,  0.39572994,  0.44587209,  0.49601425,  0.5461564 ,\n",
              "         0.59629856,  0.64644071,  0.69658287,  0.74672502,  0.79686718,\n",
              "         0.84700933,  0.89715149,  0.94729364,  0.9974358 ,  1.04757795,\n",
              "         1.09772011,  1.14786226,  1.19800442,  1.24814657,  1.29828873,\n",
              "         1.34843088,  1.39857304,  1.44871519,  1.49885735,  1.5489995 ,\n",
              "         1.59914166,  1.64928382,  1.69942597,  1.74956813,  1.79971028,\n",
              "         1.84985244,  1.89999459,  1.95013675,  2.0002789 ,  2.05042106,\n",
              "         2.10056321,  2.15070537,  2.20084752,  2.25098968,  2.30113183,\n",
              "         2.35127399]),\n",
              " <a list of 100 Patch objects>)"
            ]
          },
          "metadata": {},
          "execution_count": 3
        },
        {
          "output_type": "display_data",
          "data": {
            "image/png": "[encoded data removed]",
            "text/plain": [
              "<Figure size 432x288 with 1 Axes>"
            ]
          },
          "metadata": {
            "needs_background": "light"
          }
        }
      ]
    },
    {
      "cell_type": "markdown",
      "metadata": {
        "id": "H4HPMItPUhxm"
      },
      "source": [
        "plot을 import 하는 여러가지 방법. "
      ]
    },
    {
      "cell_type": "markdown",
      "metadata": {
        "id": "pUF5Nr6mVilg"
      },
      "source": [
        "아래 경우 pyplot.hist(n) 이것만 쓰면 오류\n",
        "줄여쓰려면\n",
        "import matplotlib.pyplot as plt\n",
        "plt.hist(n) 이렇게\n"
      ]
    },
    {
      "cell_type": "code",
      "metadata": {
        "colab": {
          "base_uri": "https://localhost:8080/",
          "height": 350
        },
        "id": "zQJ4LnbA-Hvz",
        "outputId": "bec7eeff-8cae-4c3d-f090-eaf78cdb5fa9"
      },
      "source": [
        "import matplotlib.pyplot\n",
        "matplotlib.pyplot.hist(n)"
      ],
      "execution_count": null,
      "outputs": [
        {
          "output_type": "execute_result",
          "data": {
            "text/plain": [
              "(array([ 4.,  4.,  4.,  8., 19., 21., 16., 13.,  6.,  5.]),\n",
              " array([-2.54804234, -2.0585933 , -1.56914426, -1.07969522, -0.59024618,\n",
              "        -0.10079714,  0.3886519 ,  0.87810094,  1.36754998,  1.85699902,\n",
              "         2.34644806]),\n",
              " <a list of 10 Patch objects>)"
            ]
          },
          "metadata": {},
          "execution_count": 4
        },
        {
          "output_type": "display_data",
          "data": {
            "image/png": "[encoded data removed]",
            "text/plain": [
              "<Figure size 432x288 with 1 Axes>"
            ]
          },
          "metadata": {
            "needs_background": "light"
          }
        }
      ]
    },
    {
      "cell_type": "code",
      "metadata": {
        "id": "AWU6awi53c07",
        "colab": {
          "base_uri": "https://localhost:8080/",
          "height": 350
        },
        "outputId": "9b49fb47-6bac-4887-8815-e5ed130f6c56"
      },
      "source": [
        "import matplotlib.pyplot as plt\n",
        "plt.hist(n)"
      ],
      "execution_count": null,
      "outputs": [
        {
          "output_type": "execute_result",
          "data": {
            "text/plain": [
              "(array([ 4.,  4.,  4.,  8., 19., 21., 16., 13.,  6.,  5.]),\n",
              " array([-2.54804234, -2.0585933 , -1.56914426, -1.07969522, -0.59024618,\n",
              "        -0.10079714,  0.3886519 ,  0.87810094,  1.36754998,  1.85699902,\n",
              "         2.34644806]),\n",
              " <a list of 10 Patch objects>)"
            ]
          },
          "metadata": {},
          "execution_count": 5
        },
        {
          "output_type": "display_data",
          "data": {
            "image/png": "[encoded data removed]",
            "text/plain": [
              "<Figure size 432x288 with 1 Axes>"
            ]
          },
          "metadata": {
            "needs_background": "light"
          }
        }
      ]
    },
    {
      "cell_type": "markdown",
      "metadata": {
        "id": "BOnMnxK3VyHi"
      },
      "source": [
        "또는 from으로 "
      ]
    },
    {
      "cell_type": "code",
      "metadata": {
        "colab": {
          "base_uri": "https://localhost:8080/",
          "height": 350
        },
        "id": "moIjn3Kv-Hqy",
        "outputId": "4b1e3880-1576-4b63-b4d0-192704221a8d"
      },
      "source": [
        "from matplotlib import pyplot\n",
        "pyplot.hist(n)"
      ],
      "execution_count": null,
      "outputs": [
        {
          "output_type": "execute_result",
          "data": {
            "text/plain": [
              "(array([ 3.,  4.,  9., 11., 26., 19., 16., 10.,  1.,  1.]),\n",
              " array([-2.51307585, -1.99199295, -1.47091005, -0.94982715, -0.42874425,\n",
              "         0.09233865,  0.61342155,  1.13450445,  1.65558734,  2.17667024,\n",
              "         2.69775314]),\n",
              " <a list of 10 Patch objects>)"
            ]
          },
          "metadata": {},
          "execution_count": 11
        },
        {
          "output_type": "display_data",
          "data": {
            "image/png": "[encoded data removed]",
            "text/plain": [
              "<Figure size 432x288 with 1 Axes>"
            ]
          },
          "metadata": {
            "needs_background": "light"
          }
        }
      ]
    },
    {
      "cell_type": "code",
      "metadata": {
        "colab": {
          "base_uri": "https://localhost:8080/",
          "height": 350
        },
        "id": "ORo259i7_Uqi",
        "outputId": "8faa9ebd-66ff-4f86-e588-f114023e649d"
      },
      "source": [
        "from matplotlib.pyplot import hist\n",
        "hist(n)"
      ],
      "execution_count": null,
      "outputs": [
        {
          "output_type": "execute_result",
          "data": {
            "text/plain": [
              "(array([ 3.,  4.,  9., 11., 26., 19., 16., 10.,  1.,  1.]),\n",
              " array([-2.51307585, -1.99199295, -1.47091005, -0.94982715, -0.42874425,\n",
              "         0.09233865,  0.61342155,  1.13450445,  1.65558734,  2.17667024,\n",
              "         2.69775314]),\n",
              " <a list of 10 Patch objects>)"
            ]
          },
          "metadata": {},
          "execution_count": 14
        },
        {
          "output_type": "display_data",
          "data": {
            "image/png": "[encoded data removed]",
            "text/plain": [
              "<Figure size 432x288 with 1 Axes>"
            ]
          },
          "metadata": {
            "needs_background": "light"
          }
        }
      ]
    }
  ]
}